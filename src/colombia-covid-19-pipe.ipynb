{
 "cells": [
  {
   "cell_type": "code",
   "execution_count": 87,
   "metadata": {
    "_cell_guid": "b1076dfc-b9ad-4769-8c92-a6c4dae69d19",
    "_uuid": "8f2839f25d086af736a60e9eeb907d3b93b6e0e5"
   },
   "outputs": [],
   "source": [
    "# This Python 3 environment comes with many helpful analytics libraries installed\n",
    "# It is defined by the kaggle/python docker image: https://github.com/kaggle/docker-python\n",
    "# For example, here's several helpful packages to load in \n",
    "\n",
    "import numpy as np # linear algebra\n",
    "import pandas as pd # data processing, CSV file I/O (e.g. pd.read_csv)\n",
    "#import geopandas as gpd # geodata processing\n",
    "# Get geolocation using geocoder\n",
    "from geopy.geocoders import Nominatim\n",
    "geolocator = Nominatim(user_agent='covid19co', timeout=None)\n",
    "# Https requests\n",
    "import requests\n",
    "import unidecode\n",
    "# Dates\n",
    "from datetime import date\n",
    "from calendar import day_name, month_name\n",
    "\n",
    "# Short ID\n",
    "import subprocess\n",
    "import sys\n",
    "def install(package):\n",
    "    subprocess.check_call([sys.executable, \"-m\", \"pip\", \"install\", package])\n",
    "try:\n",
    "    from shortid import ShortId\n",
    "except Exception:\n",
    "    install('shortid')\n",
    "    from shortid import ShortId\n",
    "\n",
    "# Input data files are available in the \"../input/\" directory.\n",
    "# For example, running this (by clicking run or pressing Shift+Enter) will list all files under the input directory\n",
    "\n",
    "import os\n",
    "for dirname, _, filenames in os.walk('/kaggle/input'):\n",
    "    for filename in filenames:\n",
    "        print(os.path.join(dirname, filename))\n",
    "\n",
    "# Any results you write to the current directory are saved as output."
   ]
  },
  {
   "cell_type": "markdown",
   "metadata": {},
   "source": [
    "# Colombia Covid 19 Pipeline\n",
    "Dataset is obtained from [Instituto Nacional de Salud](https://www.ins.gov.co/Noticias/Paginas/Coronavirus.aspx) daily report Coronavirus 2019 from Colombia.\n",
    "\n",
    "You can get the official dataset here: \n",
    "[INS - Official Report](https://e.infogram.com/api/live/flex/bc384047-e71c-47d9-b606-1eb6a29962e3/664bc407-2569-4ab8-b7fb-9deb668ddb7a)\n",
    "\n",
    "The number of new cases are increasing day by day around the world.\n",
    "This dataset has information about reported cases from 32 Colombia departments.\n",
    "\n",
    "You can view and collaborate to the analysis here:\n",
    "[colombia_covid_19_analysis](https://www.kaggle.com/sebaxtian/colombia-covid-19-analysis) Kaggle Notebook Kernel."
   ]
  },
  {
   "cell_type": "markdown",
   "metadata": {},
   "source": [
    "---"
   ]
  },
  {
   "cell_type": "code",
   "execution_count": 88,
   "metadata": {},
   "outputs": [],
   "source": [
    "# Constants\n",
    "INPUT_DIR = '/kaggle/input'\n",
    "# Any results you write to the current directory are saved as output.\n",
    "OUTPUT_DIR = './output'\n",
    "# URL original dataset\n",
    "URL_DATASET = 'https://e.infogram.com/api/live/flex/bc384047-e71c-47d9-b606-1eb6a29962e3/664bc407-2569-4ab8-b7fb-9deb668ddb7a'"
   ]
  },
  {
   "cell_type": "code",
   "execution_count": 89,
   "metadata": {
    "_cell_guid": "79c7e3d0-c299-4dcb-8224-4455121ee9b0",
    "_uuid": "d629ff2d2480ee46fbb7e2d37f6b5fab8052498a"
   },
   "outputs": [
    {
     "output_type": "execute_result",
     "data": {
      "text/plain": "(1579, 9)"
     },
     "metadata": {},
     "execution_count": 89
    }
   ],
   "source": [
    "# Reading the json as a dict\n",
    "with requests.get(URL_DATASET) as original_dataset:\n",
    "    data = original_dataset.json()\n",
    "#print(data)\n",
    "\n",
    "# Get attributes and data\n",
    "attrs = data['data'][0][0]\n",
    "del data['data'][0][0]\n",
    "data = data['data'][0]\n",
    "\n",
    "# Build dataframe\n",
    "covid_df = pd.DataFrame(data=data, columns=attrs)\n",
    "\n",
    "# Size dataframe\n",
    "covid_df.shape"
   ]
  },
  {
   "cell_type": "code",
   "execution_count": 90,
   "metadata": {},
   "outputs": [
    {
     "output_type": "execute_result",
     "data": {
      "text/plain": "     ID de caso Fecha de diagnóstico Ciudad de ubicación  \\\n1574       1575           06/04/2020           Cartagena   \n1575       1576           06/04/2020           Cartagena   \n1576       1577           06/04/2020           Cartagena   \n1577       1578           06/04/2020           Cartagena   \n1578       1579           06/04/2020           Cartagena   \n\n     Departamento o Distrito    Atención** Edad Sexo       Tipo*  \\\n1574      Cartagena D.T. y C          Casa   42    F  En estudio   \n1575      Cartagena D.T. y C          Casa   15    M  En estudio   \n1576      Cartagena D.T. y C          Casa   30    F  En estudio   \n1577      Cartagena D.T. y C          Casa   55    F  En estudio   \n1578      Cartagena D.T. y C  Hospital UCI   73    M  En estudio   \n\n     País de procedencia  \n1574            Colombia  \n1575            Colombia  \n1576            Colombia  \n1577            Colombia  \n1578            Colombia  ",
      "text/html": "<div>\n<style scoped>\n    .dataframe tbody tr th:only-of-type {\n        vertical-align: middle;\n    }\n\n    .dataframe tbody tr th {\n        vertical-align: top;\n    }\n\n    .dataframe thead th {\n        text-align: right;\n    }\n</style>\n<table border=\"1\" class=\"dataframe\">\n  <thead>\n    <tr style=\"text-align: right;\">\n      <th></th>\n      <th>ID de caso</th>\n      <th>Fecha de diagnóstico</th>\n      <th>Ciudad de ubicación</th>\n      <th>Departamento o Distrito</th>\n      <th>Atención**</th>\n      <th>Edad</th>\n      <th>Sexo</th>\n      <th>Tipo*</th>\n      <th>País de procedencia</th>\n    </tr>\n  </thead>\n  <tbody>\n    <tr>\n      <th>1574</th>\n      <td>1575</td>\n      <td>06/04/2020</td>\n      <td>Cartagena</td>\n      <td>Cartagena D.T. y C</td>\n      <td>Casa</td>\n      <td>42</td>\n      <td>F</td>\n      <td>En estudio</td>\n      <td>Colombia</td>\n    </tr>\n    <tr>\n      <th>1575</th>\n      <td>1576</td>\n      <td>06/04/2020</td>\n      <td>Cartagena</td>\n      <td>Cartagena D.T. y C</td>\n      <td>Casa</td>\n      <td>15</td>\n      <td>M</td>\n      <td>En estudio</td>\n      <td>Colombia</td>\n    </tr>\n    <tr>\n      <th>1576</th>\n      <td>1577</td>\n      <td>06/04/2020</td>\n      <td>Cartagena</td>\n      <td>Cartagena D.T. y C</td>\n      <td>Casa</td>\n      <td>30</td>\n      <td>F</td>\n      <td>En estudio</td>\n      <td>Colombia</td>\n    </tr>\n    <tr>\n      <th>1577</th>\n      <td>1578</td>\n      <td>06/04/2020</td>\n      <td>Cartagena</td>\n      <td>Cartagena D.T. y C</td>\n      <td>Casa</td>\n      <td>55</td>\n      <td>F</td>\n      <td>En estudio</td>\n      <td>Colombia</td>\n    </tr>\n    <tr>\n      <th>1578</th>\n      <td>1579</td>\n      <td>06/04/2020</td>\n      <td>Cartagena</td>\n      <td>Cartagena D.T. y C</td>\n      <td>Hospital UCI</td>\n      <td>73</td>\n      <td>M</td>\n      <td>En estudio</td>\n      <td>Colombia</td>\n    </tr>\n  </tbody>\n</table>\n</div>"
     },
     "metadata": {},
     "execution_count": 90
    }
   ],
   "source": [
    "# Show dataframe\n",
    "covid_df.tail()"
   ]
  },
  {
   "cell_type": "code",
   "execution_count": 91,
   "metadata": {},
   "outputs": [
    {
     "output_type": "execute_result",
     "data": {
      "text/plain": "  id_case        date      city        dept_dist        care age sex  \\\n0       1  06/03/2020    Bogotá      Bogotá D.C.  Recuperado  19   F   \n1       2  09/03/2020      Buga  Valle del Cauca  Recuperado  34   M   \n2       3  09/03/2020  Medellín        Antioquia  Recuperado  50   F   \n3       4  11/03/2020  Medellín        Antioquia  Recuperado  55   M   \n4       5  11/03/2020  Medellín        Antioquia  Recuperado  25   M   \n\n          kind country_origin  \n0    Importado         Italia  \n1    Importado         España  \n2    Importado         España  \n3  Relacionado       Colombia  \n4  Relacionado       Colombia  ",
      "text/html": "<div>\n<style scoped>\n    .dataframe tbody tr th:only-of-type {\n        vertical-align: middle;\n    }\n\n    .dataframe tbody tr th {\n        vertical-align: top;\n    }\n\n    .dataframe thead th {\n        text-align: right;\n    }\n</style>\n<table border=\"1\" class=\"dataframe\">\n  <thead>\n    <tr style=\"text-align: right;\">\n      <th></th>\n      <th>id_case</th>\n      <th>date</th>\n      <th>city</th>\n      <th>dept_dist</th>\n      <th>care</th>\n      <th>age</th>\n      <th>sex</th>\n      <th>kind</th>\n      <th>country_origin</th>\n    </tr>\n  </thead>\n  <tbody>\n    <tr>\n      <th>0</th>\n      <td>1</td>\n      <td>06/03/2020</td>\n      <td>Bogotá</td>\n      <td>Bogotá D.C.</td>\n      <td>Recuperado</td>\n      <td>19</td>\n      <td>F</td>\n      <td>Importado</td>\n      <td>Italia</td>\n    </tr>\n    <tr>\n      <th>1</th>\n      <td>2</td>\n      <td>09/03/2020</td>\n      <td>Buga</td>\n      <td>Valle del Cauca</td>\n      <td>Recuperado</td>\n      <td>34</td>\n      <td>M</td>\n      <td>Importado</td>\n      <td>España</td>\n    </tr>\n    <tr>\n      <th>2</th>\n      <td>3</td>\n      <td>09/03/2020</td>\n      <td>Medellín</td>\n      <td>Antioquia</td>\n      <td>Recuperado</td>\n      <td>50</td>\n      <td>F</td>\n      <td>Importado</td>\n      <td>España</td>\n    </tr>\n    <tr>\n      <th>3</th>\n      <td>4</td>\n      <td>11/03/2020</td>\n      <td>Medellín</td>\n      <td>Antioquia</td>\n      <td>Recuperado</td>\n      <td>55</td>\n      <td>M</td>\n      <td>Relacionado</td>\n      <td>Colombia</td>\n    </tr>\n    <tr>\n      <th>4</th>\n      <td>5</td>\n      <td>11/03/2020</td>\n      <td>Medellín</td>\n      <td>Antioquia</td>\n      <td>Recuperado</td>\n      <td>25</td>\n      <td>M</td>\n      <td>Relacionado</td>\n      <td>Colombia</td>\n    </tr>\n  </tbody>\n</table>\n</div>"
     },
     "metadata": {},
     "execution_count": 91
    }
   ],
   "source": [
    "# Rename columns\n",
    "covid_df.rename(columns={\n",
    "    \"ID de caso\": \"id_case\",\n",
    "    \"Fecha de diagnóstico\": \"date\",\n",
    "    \"Ciudad de ubicación\": \"city\",\n",
    "    \"Departamento o Distrito\": \"dept_dist\",\n",
    "    \"Atención**\": \"care\",\n",
    "    \"Edad\": \"age\",\n",
    "    \"Sexo\": \"sex\",\n",
    "    \"Tipo*\": \"kind\",\n",
    "    \"País de procedencia\": \"country_origin\"}, inplace=True)\n",
    "# Show dataframe\n",
    "covid_df.head()"
   ]
  },
  {
   "cell_type": "code",
   "execution_count": 92,
   "metadata": {},
   "outputs": [
    {
     "output_type": "execute_result",
     "data": {
      "text/plain": "     id_case        date       city           dept_dist          care age sex  \\\n1574    1575  06/04/2020  Cartagena  Cartagena D.T. y C          Casa  42   F   \n1575    1576  06/04/2020  Cartagena  Cartagena D.T. y C          Casa  15   M   \n1576    1577  06/04/2020  Cartagena  Cartagena D.T. y C          Casa  30   F   \n1577    1578  06/04/2020  Cartagena  Cartagena D.T. y C          Casa  55   F   \n1578    1579  06/04/2020  Cartagena  Cartagena D.T. y C  Hospital UCI  73   M   \n\n            kind country_origin  \n1574  En estudio       Colombia  \n1575  En estudio       Colombia  \n1576  En estudio       Colombia  \n1577  En estudio       Colombia  \n1578  En estudio       Colombia  ",
      "text/html": "<div>\n<style scoped>\n    .dataframe tbody tr th:only-of-type {\n        vertical-align: middle;\n    }\n\n    .dataframe tbody tr th {\n        vertical-align: top;\n    }\n\n    .dataframe thead th {\n        text-align: right;\n    }\n</style>\n<table border=\"1\" class=\"dataframe\">\n  <thead>\n    <tr style=\"text-align: right;\">\n      <th></th>\n      <th>id_case</th>\n      <th>date</th>\n      <th>city</th>\n      <th>dept_dist</th>\n      <th>care</th>\n      <th>age</th>\n      <th>sex</th>\n      <th>kind</th>\n      <th>country_origin</th>\n    </tr>\n  </thead>\n  <tbody>\n    <tr>\n      <th>1574</th>\n      <td>1575</td>\n      <td>06/04/2020</td>\n      <td>Cartagena</td>\n      <td>Cartagena D.T. y C</td>\n      <td>Casa</td>\n      <td>42</td>\n      <td>F</td>\n      <td>En estudio</td>\n      <td>Colombia</td>\n    </tr>\n    <tr>\n      <th>1575</th>\n      <td>1576</td>\n      <td>06/04/2020</td>\n      <td>Cartagena</td>\n      <td>Cartagena D.T. y C</td>\n      <td>Casa</td>\n      <td>15</td>\n      <td>M</td>\n      <td>En estudio</td>\n      <td>Colombia</td>\n    </tr>\n    <tr>\n      <th>1576</th>\n      <td>1577</td>\n      <td>06/04/2020</td>\n      <td>Cartagena</td>\n      <td>Cartagena D.T. y C</td>\n      <td>Casa</td>\n      <td>30</td>\n      <td>F</td>\n      <td>En estudio</td>\n      <td>Colombia</td>\n    </tr>\n    <tr>\n      <th>1577</th>\n      <td>1578</td>\n      <td>06/04/2020</td>\n      <td>Cartagena</td>\n      <td>Cartagena D.T. y C</td>\n      <td>Casa</td>\n      <td>55</td>\n      <td>F</td>\n      <td>En estudio</td>\n      <td>Colombia</td>\n    </tr>\n    <tr>\n      <th>1578</th>\n      <td>1579</td>\n      <td>06/04/2020</td>\n      <td>Cartagena</td>\n      <td>Cartagena D.T. y C</td>\n      <td>Hospital UCI</td>\n      <td>73</td>\n      <td>M</td>\n      <td>En estudio</td>\n      <td>Colombia</td>\n    </tr>\n  </tbody>\n</table>\n</div>"
     },
     "metadata": {},
     "execution_count": 92
    }
   ],
   "source": [
    "# Clean empty rows\n",
    "covid_df = covid_df[(covid_df['id_case'] != '') | (covid_df['date'] != '')]\n",
    "# Show dataframe\n",
    "covid_df.tail()"
   ]
  },
  {
   "cell_type": "code",
   "execution_count": 93,
   "metadata": {},
   "outputs": [
    {
     "output_type": "execute_result",
     "data": {
      "text/plain": "  id_case        date      city        dept_dist        care age sex  \\\n0       1  06/03/2020    Bogota      Bogota D.C.  Recuperado  19   F   \n1       2  09/03/2020      Buga  Valle del Cauca  Recuperado  34   M   \n2       3  09/03/2020  Medellin        Antioquia  Recuperado  50   F   \n3       4  11/03/2020  Medellin        Antioquia  Recuperado  55   M   \n4       5  11/03/2020  Medellin        Antioquia  Recuperado  25   M   \n\n          kind country_origin  \n0    Importado         Italia  \n1    Importado         España  \n2    Importado         España  \n3  Relacionado       Colombia  \n4  Relacionado       Colombia  ",
      "text/html": "<div>\n<style scoped>\n    .dataframe tbody tr th:only-of-type {\n        vertical-align: middle;\n    }\n\n    .dataframe tbody tr th {\n        vertical-align: top;\n    }\n\n    .dataframe thead th {\n        text-align: right;\n    }\n</style>\n<table border=\"1\" class=\"dataframe\">\n  <thead>\n    <tr style=\"text-align: right;\">\n      <th></th>\n      <th>id_case</th>\n      <th>date</th>\n      <th>city</th>\n      <th>dept_dist</th>\n      <th>care</th>\n      <th>age</th>\n      <th>sex</th>\n      <th>kind</th>\n      <th>country_origin</th>\n    </tr>\n  </thead>\n  <tbody>\n    <tr>\n      <th>0</th>\n      <td>1</td>\n      <td>06/03/2020</td>\n      <td>Bogota</td>\n      <td>Bogota D.C.</td>\n      <td>Recuperado</td>\n      <td>19</td>\n      <td>F</td>\n      <td>Importado</td>\n      <td>Italia</td>\n    </tr>\n    <tr>\n      <th>1</th>\n      <td>2</td>\n      <td>09/03/2020</td>\n      <td>Buga</td>\n      <td>Valle del Cauca</td>\n      <td>Recuperado</td>\n      <td>34</td>\n      <td>M</td>\n      <td>Importado</td>\n      <td>España</td>\n    </tr>\n    <tr>\n      <th>2</th>\n      <td>3</td>\n      <td>09/03/2020</td>\n      <td>Medellin</td>\n      <td>Antioquia</td>\n      <td>Recuperado</td>\n      <td>50</td>\n      <td>F</td>\n      <td>Importado</td>\n      <td>España</td>\n    </tr>\n    <tr>\n      <th>3</th>\n      <td>4</td>\n      <td>11/03/2020</td>\n      <td>Medellin</td>\n      <td>Antioquia</td>\n      <td>Recuperado</td>\n      <td>55</td>\n      <td>M</td>\n      <td>Relacionado</td>\n      <td>Colombia</td>\n    </tr>\n    <tr>\n      <th>4</th>\n      <td>5</td>\n      <td>11/03/2020</td>\n      <td>Medellin</td>\n      <td>Antioquia</td>\n      <td>Recuperado</td>\n      <td>25</td>\n      <td>M</td>\n      <td>Relacionado</td>\n      <td>Colombia</td>\n    </tr>\n  </tbody>\n</table>\n</div>"
     },
     "metadata": {},
     "execution_count": 93
    }
   ],
   "source": [
    "# Remove accents\n",
    "covid_df['city'] = covid_df['city'].transform(lambda value: unidecode.unidecode(value))\n",
    "covid_df['dept_dist'] = covid_df['dept_dist'].transform(lambda value: unidecode.unidecode(value))\n",
    "# Show dataframe\n",
    "covid_df.head()"
   ]
  },
  {
   "cell_type": "code",
   "execution_count": 94,
   "metadata": {},
   "outputs": [
    {
     "output_type": "execute_result",
     "data": {
      "text/plain": "  id_case        date      city        dept_dist        care age sex  \\\n0       1  06/03/2020    Bogota      Bogota D.C.  Recuperado  19   F   \n1       2  09/03/2020      Buga  Valle del Cauca  Recuperado  34   M   \n2       3  09/03/2020  Medellin        Antioquia  Recuperado  50   F   \n3       4  11/03/2020  Medellin        Antioquia  Recuperado  55   M   \n4       5  11/03/2020  Medellin        Antioquia  Recuperado  25   M   \n\n          kind country_origin day month  year month_name   day_name  \n0    Importado         Italia  06    03  2020      Marzo    Viernes  \n1    Importado         España  09    03  2020      Marzo      Lunes  \n2    Importado         España  09    03  2020      Marzo      Lunes  \n3  Relacionado       Colombia  11    03  2020      Marzo  Miercoles  \n4  Relacionado       Colombia  11    03  2020      Marzo  Miercoles  ",
      "text/html": "<div>\n<style scoped>\n    .dataframe tbody tr th:only-of-type {\n        vertical-align: middle;\n    }\n\n    .dataframe tbody tr th {\n        vertical-align: top;\n    }\n\n    .dataframe thead th {\n        text-align: right;\n    }\n</style>\n<table border=\"1\" class=\"dataframe\">\n  <thead>\n    <tr style=\"text-align: right;\">\n      <th></th>\n      <th>id_case</th>\n      <th>date</th>\n      <th>city</th>\n      <th>dept_dist</th>\n      <th>care</th>\n      <th>age</th>\n      <th>sex</th>\n      <th>kind</th>\n      <th>country_origin</th>\n      <th>day</th>\n      <th>month</th>\n      <th>year</th>\n      <th>month_name</th>\n      <th>day_name</th>\n    </tr>\n  </thead>\n  <tbody>\n    <tr>\n      <th>0</th>\n      <td>1</td>\n      <td>06/03/2020</td>\n      <td>Bogota</td>\n      <td>Bogota D.C.</td>\n      <td>Recuperado</td>\n      <td>19</td>\n      <td>F</td>\n      <td>Importado</td>\n      <td>Italia</td>\n      <td>06</td>\n      <td>03</td>\n      <td>2020</td>\n      <td>Marzo</td>\n      <td>Viernes</td>\n    </tr>\n    <tr>\n      <th>1</th>\n      <td>2</td>\n      <td>09/03/2020</td>\n      <td>Buga</td>\n      <td>Valle del Cauca</td>\n      <td>Recuperado</td>\n      <td>34</td>\n      <td>M</td>\n      <td>Importado</td>\n      <td>España</td>\n      <td>09</td>\n      <td>03</td>\n      <td>2020</td>\n      <td>Marzo</td>\n      <td>Lunes</td>\n    </tr>\n    <tr>\n      <th>2</th>\n      <td>3</td>\n      <td>09/03/2020</td>\n      <td>Medellin</td>\n      <td>Antioquia</td>\n      <td>Recuperado</td>\n      <td>50</td>\n      <td>F</td>\n      <td>Importado</td>\n      <td>España</td>\n      <td>09</td>\n      <td>03</td>\n      <td>2020</td>\n      <td>Marzo</td>\n      <td>Lunes</td>\n    </tr>\n    <tr>\n      <th>3</th>\n      <td>4</td>\n      <td>11/03/2020</td>\n      <td>Medellin</td>\n      <td>Antioquia</td>\n      <td>Recuperado</td>\n      <td>55</td>\n      <td>M</td>\n      <td>Relacionado</td>\n      <td>Colombia</td>\n      <td>11</td>\n      <td>03</td>\n      <td>2020</td>\n      <td>Marzo</td>\n      <td>Miercoles</td>\n    </tr>\n    <tr>\n      <th>4</th>\n      <td>5</td>\n      <td>11/03/2020</td>\n      <td>Medellin</td>\n      <td>Antioquia</td>\n      <td>Recuperado</td>\n      <td>25</td>\n      <td>M</td>\n      <td>Relacionado</td>\n      <td>Colombia</td>\n      <td>11</td>\n      <td>03</td>\n      <td>2020</td>\n      <td>Marzo</td>\n      <td>Miercoles</td>\n    </tr>\n  </tbody>\n</table>\n</div>"
     },
     "metadata": {},
     "execution_count": 94
    }
   ],
   "source": [
    "# Add Day, Month, Year, Month Name and Day Name\n",
    "covid_df['day'] = covid_df['date'].transform(lambda value: value.split('/')[0])\n",
    "covid_df['month'] = covid_df['date'].transform(lambda value: value.split('/')[1])\n",
    "covid_df['year'] = covid_df['date'].transform(lambda value: value.split('/')[2])\n",
    "# English\n",
    "#covid_df['month_name'] = covid_df['month'].transform(lambda value: month_name[int(value)])\n",
    "#covid_df['day_name'] = covid_df['date'].transform(lambda value: day_name[date(int(value.split('/')[2]), int(value.split('/')[1]), int(value.split('/')[0])).weekday()])\n",
    "# Spanish\n",
    "nombre_mes = ['Enero', 'Febrero', 'Marzo', 'Abril', 'Mayo', 'Junio', 'Julio', 'Agosto', 'Septiembre', 'Octubre', 'Noviembre', 'Diciembre']\n",
    "nombre_dia = ['Lunes', 'Martes', 'Miercoles', 'Jueves', 'Viernes', 'Sabado', 'Domingo']\n",
    "covid_df['month_name'] = covid_df['month'].transform(lambda value: nombre_mes[int(value) - 1])\n",
    "covid_df['day_name'] = covid_df['date'].transform(lambda value: nombre_dia[date(int(value.split('/')[2]), int(value.split('/')[1]), int(value.split('/')[0])).weekday()])\n",
    "# Show dataframe\n",
    "covid_df.head()"
   ]
  },
  {
   "cell_type": "code",
   "execution_count": 95,
   "metadata": {},
   "outputs": [
    {
     "output_type": "execute_result",
     "data": {
      "text/plain": "       id_case        date      city        dept_dist        care age sex  \\\n0  Fv0tivW7U19  06/03/2020    Bogota      Bogota D.C.  Recuperado  19   F   \n1  MmMuvU4ts34  09/03/2020      Buga  Valle del Cauca  Recuperado  34   M   \n2  FiBqoYF5n50  09/03/2020  Medellin        Antioquia  Recuperado  50   F   \n3  MARxU8QIJ55  11/03/2020  Medellin        Antioquia  Recuperado  55   M   \n4  M3I17Ax8Z25  11/03/2020  Medellin        Antioquia  Recuperado  25   M   \n\n          kind country_origin day month  year month_name   day_name  \n0    Importado         Italia  06    03  2020      Marzo    Viernes  \n1    Importado         España  09    03  2020      Marzo      Lunes  \n2    Importado         España  09    03  2020      Marzo      Lunes  \n3  Relacionado       Colombia  11    03  2020      Marzo  Miercoles  \n4  Relacionado       Colombia  11    03  2020      Marzo  Miercoles  ",
      "text/html": "<div>\n<style scoped>\n    .dataframe tbody tr th:only-of-type {\n        vertical-align: middle;\n    }\n\n    .dataframe tbody tr th {\n        vertical-align: top;\n    }\n\n    .dataframe thead th {\n        text-align: right;\n    }\n</style>\n<table border=\"1\" class=\"dataframe\">\n  <thead>\n    <tr style=\"text-align: right;\">\n      <th></th>\n      <th>id_case</th>\n      <th>date</th>\n      <th>city</th>\n      <th>dept_dist</th>\n      <th>care</th>\n      <th>age</th>\n      <th>sex</th>\n      <th>kind</th>\n      <th>country_origin</th>\n      <th>day</th>\n      <th>month</th>\n      <th>year</th>\n      <th>month_name</th>\n      <th>day_name</th>\n    </tr>\n  </thead>\n  <tbody>\n    <tr>\n      <th>0</th>\n      <td>Fv0tivW7U19</td>\n      <td>06/03/2020</td>\n      <td>Bogota</td>\n      <td>Bogota D.C.</td>\n      <td>Recuperado</td>\n      <td>19</td>\n      <td>F</td>\n      <td>Importado</td>\n      <td>Italia</td>\n      <td>06</td>\n      <td>03</td>\n      <td>2020</td>\n      <td>Marzo</td>\n      <td>Viernes</td>\n    </tr>\n    <tr>\n      <th>1</th>\n      <td>MmMuvU4ts34</td>\n      <td>09/03/2020</td>\n      <td>Buga</td>\n      <td>Valle del Cauca</td>\n      <td>Recuperado</td>\n      <td>34</td>\n      <td>M</td>\n      <td>Importado</td>\n      <td>España</td>\n      <td>09</td>\n      <td>03</td>\n      <td>2020</td>\n      <td>Marzo</td>\n      <td>Lunes</td>\n    </tr>\n    <tr>\n      <th>2</th>\n      <td>FiBqoYF5n50</td>\n      <td>09/03/2020</td>\n      <td>Medellin</td>\n      <td>Antioquia</td>\n      <td>Recuperado</td>\n      <td>50</td>\n      <td>F</td>\n      <td>Importado</td>\n      <td>España</td>\n      <td>09</td>\n      <td>03</td>\n      <td>2020</td>\n      <td>Marzo</td>\n      <td>Lunes</td>\n    </tr>\n    <tr>\n      <th>3</th>\n      <td>MARxU8QIJ55</td>\n      <td>11/03/2020</td>\n      <td>Medellin</td>\n      <td>Antioquia</td>\n      <td>Recuperado</td>\n      <td>55</td>\n      <td>M</td>\n      <td>Relacionado</td>\n      <td>Colombia</td>\n      <td>11</td>\n      <td>03</td>\n      <td>2020</td>\n      <td>Marzo</td>\n      <td>Miercoles</td>\n    </tr>\n    <tr>\n      <th>4</th>\n      <td>M3I17Ax8Z25</td>\n      <td>11/03/2020</td>\n      <td>Medellin</td>\n      <td>Antioquia</td>\n      <td>Recuperado</td>\n      <td>25</td>\n      <td>M</td>\n      <td>Relacionado</td>\n      <td>Colombia</td>\n      <td>11</td>\n      <td>03</td>\n      <td>2020</td>\n      <td>Marzo</td>\n      <td>Miercoles</td>\n    </tr>\n  </tbody>\n</table>\n</div>"
     },
     "metadata": {},
     "execution_count": 95
    }
   ],
   "source": [
    "# Update Case ID\n",
    "covid_df['id_case'] = covid_df['id_case'].transform(lambda value: ShortId().generate())\n",
    "covid_df['id_case'] = covid_df['sex'] + covid_df['id_case'] + covid_df['age']\n",
    "covid_df.head()"
   ]
  },
  {
   "cell_type": "code",
   "execution_count": 96,
   "metadata": {},
   "outputs": [
    {
     "output_type": "execute_result",
     "data": {
      "text/plain": "       id_case        date day month  year month_name   day_name      city  \\\n0  Fv0tivW7U19  06/03/2020  06    03  2020      Marzo    Viernes    Bogota   \n1  MmMuvU4ts34  09/03/2020  09    03  2020      Marzo      Lunes      Buga   \n2  FiBqoYF5n50  09/03/2020  09    03  2020      Marzo      Lunes  Medellin   \n3  MARxU8QIJ55  11/03/2020  11    03  2020      Marzo  Miercoles  Medellin   \n4  M3I17Ax8Z25  11/03/2020  11    03  2020      Marzo  Miercoles  Medellin   \n\n         dept_dist age sex         kind country_origin        care  \n0      Bogota D.C.  19   F    Importado         Italia  Recuperado  \n1  Valle del Cauca  34   M    Importado         España  Recuperado  \n2        Antioquia  50   F    Importado         España  Recuperado  \n3        Antioquia  55   M  Relacionado       Colombia  Recuperado  \n4        Antioquia  25   M  Relacionado       Colombia  Recuperado  ",
      "text/html": "<div>\n<style scoped>\n    .dataframe tbody tr th:only-of-type {\n        vertical-align: middle;\n    }\n\n    .dataframe tbody tr th {\n        vertical-align: top;\n    }\n\n    .dataframe thead th {\n        text-align: right;\n    }\n</style>\n<table border=\"1\" class=\"dataframe\">\n  <thead>\n    <tr style=\"text-align: right;\">\n      <th></th>\n      <th>id_case</th>\n      <th>date</th>\n      <th>day</th>\n      <th>month</th>\n      <th>year</th>\n      <th>month_name</th>\n      <th>day_name</th>\n      <th>city</th>\n      <th>dept_dist</th>\n      <th>age</th>\n      <th>sex</th>\n      <th>kind</th>\n      <th>country_origin</th>\n      <th>care</th>\n    </tr>\n  </thead>\n  <tbody>\n    <tr>\n      <th>0</th>\n      <td>Fv0tivW7U19</td>\n      <td>06/03/2020</td>\n      <td>06</td>\n      <td>03</td>\n      <td>2020</td>\n      <td>Marzo</td>\n      <td>Viernes</td>\n      <td>Bogota</td>\n      <td>Bogota D.C.</td>\n      <td>19</td>\n      <td>F</td>\n      <td>Importado</td>\n      <td>Italia</td>\n      <td>Recuperado</td>\n    </tr>\n    <tr>\n      <th>1</th>\n      <td>MmMuvU4ts34</td>\n      <td>09/03/2020</td>\n      <td>09</td>\n      <td>03</td>\n      <td>2020</td>\n      <td>Marzo</td>\n      <td>Lunes</td>\n      <td>Buga</td>\n      <td>Valle del Cauca</td>\n      <td>34</td>\n      <td>M</td>\n      <td>Importado</td>\n      <td>España</td>\n      <td>Recuperado</td>\n    </tr>\n    <tr>\n      <th>2</th>\n      <td>FiBqoYF5n50</td>\n      <td>09/03/2020</td>\n      <td>09</td>\n      <td>03</td>\n      <td>2020</td>\n      <td>Marzo</td>\n      <td>Lunes</td>\n      <td>Medellin</td>\n      <td>Antioquia</td>\n      <td>50</td>\n      <td>F</td>\n      <td>Importado</td>\n      <td>España</td>\n      <td>Recuperado</td>\n    </tr>\n    <tr>\n      <th>3</th>\n      <td>MARxU8QIJ55</td>\n      <td>11/03/2020</td>\n      <td>11</td>\n      <td>03</td>\n      <td>2020</td>\n      <td>Marzo</td>\n      <td>Miercoles</td>\n      <td>Medellin</td>\n      <td>Antioquia</td>\n      <td>55</td>\n      <td>M</td>\n      <td>Relacionado</td>\n      <td>Colombia</td>\n      <td>Recuperado</td>\n    </tr>\n    <tr>\n      <th>4</th>\n      <td>M3I17Ax8Z25</td>\n      <td>11/03/2020</td>\n      <td>11</td>\n      <td>03</td>\n      <td>2020</td>\n      <td>Marzo</td>\n      <td>Miercoles</td>\n      <td>Medellin</td>\n      <td>Antioquia</td>\n      <td>25</td>\n      <td>M</td>\n      <td>Relacionado</td>\n      <td>Colombia</td>\n      <td>Recuperado</td>\n    </tr>\n  </tbody>\n</table>\n</div>"
     },
     "metadata": {},
     "execution_count": 96
    }
   ],
   "source": [
    "# Sort columns\n",
    "covid_df = covid_df[['id_case', 'date', 'day', 'month', 'year', 'month_name', 'day_name', 'city', 'dept_dist', 'age', 'sex', 'kind', 'country_origin', 'care']]\n",
    "covid_df.head()"
   ]
  },
  {
   "cell_type": "markdown",
   "metadata": {},
   "source": [
    "## Covid 19 Dataset\n",
    "> ***Output file***: covid19_co.csv"
   ]
  },
  {
   "cell_type": "code",
   "execution_count": 97,
   "metadata": {},
   "outputs": [],
   "source": [
    "# Save dataframe\n",
    "covid_df.to_csv(os.path.join(OUTPUT_DIR, 'covid19_co.csv'), index=False)"
   ]
  },
  {
   "cell_type": "markdown",
   "metadata": {},
   "source": [
    "---"
   ]
  },
  {
   "cell_type": "code",
   "execution_count": 98,
   "metadata": {},
   "outputs": [
    {
     "output_type": "execute_result",
     "data": {
      "text/plain": "          date  total  cumsum\n24  02/04/2020     96    1161\n25  03/04/2020    106    1267\n26  04/04/2020    139    1406\n27  05/04/2020     79    1485\n28  06/04/2020     94    1579",
      "text/html": "<div>\n<style scoped>\n    .dataframe tbody tr th:only-of-type {\n        vertical-align: middle;\n    }\n\n    .dataframe tbody tr th {\n        vertical-align: top;\n    }\n\n    .dataframe thead th {\n        text-align: right;\n    }\n</style>\n<table border=\"1\" class=\"dataframe\">\n  <thead>\n    <tr style=\"text-align: right;\">\n      <th></th>\n      <th>date</th>\n      <th>total</th>\n      <th>cumsum</th>\n    </tr>\n  </thead>\n  <tbody>\n    <tr>\n      <th>24</th>\n      <td>02/04/2020</td>\n      <td>96</td>\n      <td>1161</td>\n    </tr>\n    <tr>\n      <th>25</th>\n      <td>03/04/2020</td>\n      <td>106</td>\n      <td>1267</td>\n    </tr>\n    <tr>\n      <th>26</th>\n      <td>04/04/2020</td>\n      <td>139</td>\n      <td>1406</td>\n    </tr>\n    <tr>\n      <th>27</th>\n      <td>05/04/2020</td>\n      <td>79</td>\n      <td>1485</td>\n    </tr>\n    <tr>\n      <th>28</th>\n      <td>06/04/2020</td>\n      <td>94</td>\n      <td>1579</td>\n    </tr>\n  </tbody>\n</table>\n</div>"
     },
     "metadata": {},
     "execution_count": 98
    }
   ],
   "source": [
    "# Cases by Date\n",
    "covid_df_by_date = covid_df.groupby('date')['date'].count()\n",
    "covid_df_by_date = pd.DataFrame(data={'date': covid_df_by_date.index, 'total': covid_df_by_date.values}, columns=['date', 'total'])\n",
    "covid_df_by_date['date_iso'] = pd.to_datetime(covid_df_by_date['date'], format='%d/%m/%Y')\n",
    "covid_df_by_date = covid_df_by_date.sort_values(by=['date_iso'], ascending=True)\n",
    "covid_df_by_date['cumsum'] = covid_df_by_date['total'].cumsum()\n",
    "covid_df_by_date = covid_df_by_date.drop(columns=['date_iso'])\n",
    "covid_df_by_date.reset_index(inplace=True, drop=True)\n",
    "# Show dataframe\n",
    "covid_df_by_date.tail()"
   ]
  },
  {
   "cell_type": "markdown",
   "metadata": {},
   "source": [
    "## Cases by Date\n",
    "> ***Output file***: covid_19_by_date.csv"
   ]
  },
  {
   "cell_type": "code",
   "execution_count": 99,
   "metadata": {},
   "outputs": [],
   "source": [
    "# Save dataframe\n",
    "covid_df_by_date.to_csv(os.path.join(OUTPUT_DIR, 'covid_19_by_date.csv'), index=False)"
   ]
  },
  {
   "cell_type": "markdown",
   "metadata": {},
   "source": [
    "---"
   ]
  },
  {
   "cell_type": "code",
   "execution_count": 100,
   "metadata": {},
   "outputs": [
    {
     "output_type": "execute_result",
     "data": {
      "text/plain": "           care  total\n0          Casa   1234\n1      Hospital    135\n2    Recuperado     88\n3  Hospital UCI     76\n4     Fallecido     46",
      "text/html": "<div>\n<style scoped>\n    .dataframe tbody tr th:only-of-type {\n        vertical-align: middle;\n    }\n\n    .dataframe tbody tr th {\n        vertical-align: top;\n    }\n\n    .dataframe thead th {\n        text-align: right;\n    }\n</style>\n<table border=\"1\" class=\"dataframe\">\n  <thead>\n    <tr style=\"text-align: right;\">\n      <th></th>\n      <th>care</th>\n      <th>total</th>\n    </tr>\n  </thead>\n  <tbody>\n    <tr>\n      <th>0</th>\n      <td>Casa</td>\n      <td>1234</td>\n    </tr>\n    <tr>\n      <th>1</th>\n      <td>Hospital</td>\n      <td>135</td>\n    </tr>\n    <tr>\n      <th>2</th>\n      <td>Recuperado</td>\n      <td>88</td>\n    </tr>\n    <tr>\n      <th>3</th>\n      <td>Hospital UCI</td>\n      <td>76</td>\n    </tr>\n    <tr>\n      <th>4</th>\n      <td>Fallecido</td>\n      <td>46</td>\n    </tr>\n  </tbody>\n</table>\n</div>"
     },
     "metadata": {},
     "execution_count": 100
    }
   ],
   "source": [
    "# Cases by Care\n",
    "covid_df_by_care = covid_df.groupby('care')['care'].count().sort_values(ascending=False)\n",
    "covid_df_by_care = pd.DataFrame(data={'care': covid_df_by_care.index, 'total': covid_df_by_care.values}, columns=['care', 'total'])\n",
    "# Show dataframe\n",
    "covid_df_by_care.head()"
   ]
  },
  {
   "cell_type": "markdown",
   "metadata": {},
   "source": [
    "## Cases by Care\n",
    "> ***Output file***: covid_19_by_care.csv"
   ]
  },
  {
   "cell_type": "code",
   "execution_count": 101,
   "metadata": {},
   "outputs": [],
   "source": [
    "# Save dataframe\n",
    "covid_df_by_care.to_csv(os.path.join(OUTPUT_DIR, 'covid_19_by_care.csv'), index=False)"
   ]
  },
  {
   "cell_type": "markdown",
   "metadata": {},
   "source": [
    "---"
   ]
  },
  {
   "cell_type": "code",
   "execution_count": 102,
   "metadata": {},
   "outputs": [
    {
     "output_type": "execute_result",
     "data": {
      "text/plain": "  sex  total\n0   M    804\n1   F    775",
      "text/html": "<div>\n<style scoped>\n    .dataframe tbody tr th:only-of-type {\n        vertical-align: middle;\n    }\n\n    .dataframe tbody tr th {\n        vertical-align: top;\n    }\n\n    .dataframe thead th {\n        text-align: right;\n    }\n</style>\n<table border=\"1\" class=\"dataframe\">\n  <thead>\n    <tr style=\"text-align: right;\">\n      <th></th>\n      <th>sex</th>\n      <th>total</th>\n    </tr>\n  </thead>\n  <tbody>\n    <tr>\n      <th>0</th>\n      <td>M</td>\n      <td>804</td>\n    </tr>\n    <tr>\n      <th>1</th>\n      <td>F</td>\n      <td>775</td>\n    </tr>\n  </tbody>\n</table>\n</div>"
     },
     "metadata": {},
     "execution_count": 102
    }
   ],
   "source": [
    "# Cases by Sex\n",
    "covid_df_by_sex = covid_df.groupby('sex')['sex'].count().sort_values(ascending=False)\n",
    "covid_df_by_sex = pd.DataFrame(data={'sex': covid_df_by_sex.index, 'total': covid_df_by_sex.values}, columns=['sex', 'total'])\n",
    "# Show dataframe\n",
    "covid_df_by_sex.head()"
   ]
  },
  {
   "cell_type": "markdown",
   "metadata": {},
   "source": [
    "## Cases by Sex\n",
    "> ***Output file***: covid_19_by_sex.csv"
   ]
  },
  {
   "cell_type": "code",
   "execution_count": 103,
   "metadata": {},
   "outputs": [],
   "source": [
    "# Save dataframe\n",
    "covid_df_by_sex.to_csv(os.path.join(OUTPUT_DIR, 'covid_19_by_sex.csv'), index=False)"
   ]
  },
  {
   "cell_type": "markdown",
   "metadata": {},
   "source": [
    "---"
   ]
  },
  {
   "cell_type": "code",
   "execution_count": 104,
   "metadata": {},
   "outputs": [
    {
     "output_type": "execute_result",
     "data": {
      "text/plain": "  age  total\n0  32     46\n1  26     46\n2  29     45\n3  30     44\n4  28     43",
      "text/html": "<div>\n<style scoped>\n    .dataframe tbody tr th:only-of-type {\n        vertical-align: middle;\n    }\n\n    .dataframe tbody tr th {\n        vertical-align: top;\n    }\n\n    .dataframe thead th {\n        text-align: right;\n    }\n</style>\n<table border=\"1\" class=\"dataframe\">\n  <thead>\n    <tr style=\"text-align: right;\">\n      <th></th>\n      <th>age</th>\n      <th>total</th>\n    </tr>\n  </thead>\n  <tbody>\n    <tr>\n      <th>0</th>\n      <td>32</td>\n      <td>46</td>\n    </tr>\n    <tr>\n      <th>1</th>\n      <td>26</td>\n      <td>46</td>\n    </tr>\n    <tr>\n      <th>2</th>\n      <td>29</td>\n      <td>45</td>\n    </tr>\n    <tr>\n      <th>3</th>\n      <td>30</td>\n      <td>44</td>\n    </tr>\n    <tr>\n      <th>4</th>\n      <td>28</td>\n      <td>43</td>\n    </tr>\n  </tbody>\n</table>\n</div>"
     },
     "metadata": {},
     "execution_count": 104
    }
   ],
   "source": [
    "# Cases by Age\n",
    "covid_df_by_age = covid_df.groupby('age')['age'].count().sort_values(ascending=False)\n",
    "covid_df_by_age = pd.DataFrame(data={'age': covid_df_by_age.index, 'total': covid_df_by_age.values}, columns=['age', 'total'])\n",
    "# Show dataframe\n",
    "covid_df_by_age.head()"
   ]
  },
  {
   "cell_type": "markdown",
   "metadata": {},
   "source": [
    "## Cases by Age\n",
    "> ***Output file***: covid_19_by_age.csv"
   ]
  },
  {
   "cell_type": "code",
   "execution_count": 105,
   "metadata": {},
   "outputs": [],
   "source": [
    "# Save dataframe\n",
    "covid_df_by_age.to_csv(os.path.join(OUTPUT_DIR, 'covid_19_by_age.csv'), index=False)"
   ]
  },
  {
   "cell_type": "markdown",
   "metadata": {},
   "source": [
    "---"
   ]
  },
  {
   "cell_type": "code",
   "execution_count": 106,
   "metadata": {},
   "outputs": [
    {
     "output_type": "execute_result",
     "data": {
      "text/plain": "  age sex  total\n0  30   F     27\n1  32   M     24\n2  28   M     24\n3  26   M     24\n4  35   M     23",
      "text/html": "<div>\n<style scoped>\n    .dataframe tbody tr th:only-of-type {\n        vertical-align: middle;\n    }\n\n    .dataframe tbody tr th {\n        vertical-align: top;\n    }\n\n    .dataframe thead th {\n        text-align: right;\n    }\n</style>\n<table border=\"1\" class=\"dataframe\">\n  <thead>\n    <tr style=\"text-align: right;\">\n      <th></th>\n      <th>age</th>\n      <th>sex</th>\n      <th>total</th>\n    </tr>\n  </thead>\n  <tbody>\n    <tr>\n      <th>0</th>\n      <td>30</td>\n      <td>F</td>\n      <td>27</td>\n    </tr>\n    <tr>\n      <th>1</th>\n      <td>32</td>\n      <td>M</td>\n      <td>24</td>\n    </tr>\n    <tr>\n      <th>2</th>\n      <td>28</td>\n      <td>M</td>\n      <td>24</td>\n    </tr>\n    <tr>\n      <th>3</th>\n      <td>26</td>\n      <td>M</td>\n      <td>24</td>\n    </tr>\n    <tr>\n      <th>4</th>\n      <td>35</td>\n      <td>M</td>\n      <td>23</td>\n    </tr>\n  </tbody>\n</table>\n</div>"
     },
     "metadata": {},
     "execution_count": 106
    }
   ],
   "source": [
    "# Cases by Age and Sex\n",
    "covid_df_by_age_sex = covid_df.groupby(['age', 'sex'])['id_case'].count().sort_values(ascending=False)\n",
    "covid_df_by_age_sex = pd.DataFrame(data={'age': covid_df_by_age_sex.index.get_level_values('age'), 'sex': covid_df_by_age_sex.index.get_level_values('sex'), 'total': covid_df_by_age_sex.values}, columns=['age', 'sex', 'total'])\n",
    "# Show dataframe\n",
    "covid_df_by_age_sex.head()"
   ]
  },
  {
   "cell_type": "markdown",
   "metadata": {},
   "source": [
    "## Cases by Age and Sex\n",
    "> ***Output file***: covid_19_by_age_sex.csv"
   ]
  },
  {
   "cell_type": "code",
   "execution_count": 107,
   "metadata": {},
   "outputs": [],
   "source": [
    "# Save dataframe\n",
    "covid_df_by_age_sex.to_csv(os.path.join(OUTPUT_DIR, 'covid_19_by_age_sex.csv'), index=False)"
   ]
  },
  {
   "cell_type": "markdown",
   "metadata": {},
   "source": [
    "---"
   ]
  },
  {
   "cell_type": "code",
   "execution_count": 108,
   "metadata": {},
   "outputs": [
    {
     "output_type": "execute_result",
     "data": {
      "text/plain": "     age sex  total\n0    0-9   F     17\n1    0-9   M     14\n2  10-19   M     28\n3  10-19   F     26\n4  20-29   F    156",
      "text/html": "<div>\n<style scoped>\n    .dataframe tbody tr th:only-of-type {\n        vertical-align: middle;\n    }\n\n    .dataframe tbody tr th {\n        vertical-align: top;\n    }\n\n    .dataframe thead th {\n        text-align: right;\n    }\n</style>\n<table border=\"1\" class=\"dataframe\">\n  <thead>\n    <tr style=\"text-align: right;\">\n      <th></th>\n      <th>age</th>\n      <th>sex</th>\n      <th>total</th>\n    </tr>\n  </thead>\n  <tbody>\n    <tr>\n      <th>0</th>\n      <td>0-9</td>\n      <td>F</td>\n      <td>17</td>\n    </tr>\n    <tr>\n      <th>1</th>\n      <td>0-9</td>\n      <td>M</td>\n      <td>14</td>\n    </tr>\n    <tr>\n      <th>2</th>\n      <td>10-19</td>\n      <td>M</td>\n      <td>28</td>\n    </tr>\n    <tr>\n      <th>3</th>\n      <td>10-19</td>\n      <td>F</td>\n      <td>26</td>\n    </tr>\n    <tr>\n      <th>4</th>\n      <td>20-29</td>\n      <td>F</td>\n      <td>156</td>\n    </tr>\n  </tbody>\n</table>\n</div>"
     },
     "metadata": {},
     "execution_count": 108
    }
   ],
   "source": [
    "# Build dataframe by Age and Sex using intervals\n",
    "def age_sex_intervals(dataframe):\n",
    "    intervals = []\n",
    "    i = 0\n",
    "    while i < 100:\n",
    "        interval_i = dataframe[(dataframe['age'] >= i) & (dataframe['age'] < i+10)]\n",
    "        interval_i = interval_i.groupby('sex')['total'].sum().sort_values(ascending=False)\n",
    "        if len(interval_i.values) > 0:\n",
    "            interval_i = pd.DataFrame(data={'age': [ str(i) + '-' + str(i+9), str(i) + '-' + str(i+9)], 'sex': interval_i.index, 'total': interval_i.values}, columns=['age', 'sex', 'total'])\n",
    "            intervals.append(interval_i)\n",
    "        i = i + 10\n",
    "    return pd.concat(intervals).reset_index(drop=True)\n",
    "# Cases by Age and Sex using intervals\n",
    "covid_df_by_age_sex_interval = covid_df_by_age_sex\n",
    "covid_df_by_age_sex_interval['age'] = pd.to_numeric(covid_df_by_age_sex_interval['age'])\n",
    "covid_df_by_age_sex_interval = age_sex_intervals(covid_df_by_age_sex_interval)\n",
    "# Show dataframe\n",
    "covid_df_by_age_sex_interval.head()"
   ]
  },
  {
   "cell_type": "markdown",
   "metadata": {},
   "source": [
    "## Cases by Age and Sex Interval\n",
    "> ***Output file***: covid_19_by_age_sex_interval.csv"
   ]
  },
  {
   "cell_type": "code",
   "execution_count": 109,
   "metadata": {},
   "outputs": [],
   "source": [
    "# Save dataframe\n",
    "covid_df_by_age_sex_interval.to_csv(os.path.join(OUTPUT_DIR, 'covid_19_by_age_sex_interval.csv'), index=False)"
   ]
  },
  {
   "cell_type": "markdown",
   "metadata": {},
   "source": [
    "---"
   ]
  },
  {
   "cell_type": "code",
   "execution_count": 110,
   "metadata": {},
   "outputs": [
    {
     "output_type": "execute_result",
     "data": {
      "text/plain": "           city  total\n0        Bogota    779\n1          Cali    156\n2      Medellin    100\n3     Cartagena     53\n4  Barranquilla     45",
      "text/html": "<div>\n<style scoped>\n    .dataframe tbody tr th:only-of-type {\n        vertical-align: middle;\n    }\n\n    .dataframe tbody tr th {\n        vertical-align: top;\n    }\n\n    .dataframe thead th {\n        text-align: right;\n    }\n</style>\n<table border=\"1\" class=\"dataframe\">\n  <thead>\n    <tr style=\"text-align: right;\">\n      <th></th>\n      <th>city</th>\n      <th>total</th>\n    </tr>\n  </thead>\n  <tbody>\n    <tr>\n      <th>0</th>\n      <td>Bogota</td>\n      <td>779</td>\n    </tr>\n    <tr>\n      <th>1</th>\n      <td>Cali</td>\n      <td>156</td>\n    </tr>\n    <tr>\n      <th>2</th>\n      <td>Medellin</td>\n      <td>100</td>\n    </tr>\n    <tr>\n      <th>3</th>\n      <td>Cartagena</td>\n      <td>53</td>\n    </tr>\n    <tr>\n      <th>4</th>\n      <td>Barranquilla</td>\n      <td>45</td>\n    </tr>\n  </tbody>\n</table>\n</div>"
     },
     "metadata": {},
     "execution_count": 110
    }
   ],
   "source": [
    "# Cases by City\n",
    "covid_df_by_city = covid_df.groupby('city')['city'].count().sort_values(ascending=False)\n",
    "covid_df_by_city = pd.DataFrame(data={'city': covid_df_by_city.index, 'total': covid_df_by_city.values}, columns=['city', 'total'])\n",
    "# Show dataframe\n",
    "covid_df_by_city.head()"
   ]
  },
  {
   "cell_type": "code",
   "execution_count": 111,
   "metadata": {},
   "outputs": [],
   "source": [
    "# Find city geolocation\n",
    "def findgeopoint(city):\n",
    "    geo = geolocator.geocode(city + ', Colombia')\n",
    "    if geo:\n",
    "        return geo.point\n",
    "    else:\n",
    "        return geolocator.geocode('Colombia').point"
   ]
  },
  {
   "cell_type": "code",
   "execution_count": 112,
   "metadata": {},
   "outputs": [
    {
     "output_type": "execute_result",
     "data": {
      "text/plain": "           city  total        lat        lng\n0        Bogota    779   4.598080 -74.076044\n1          Cali    156   3.451792 -76.532494\n2      Medellin    100   6.244338 -75.573553\n3     Cartagena     53  10.419584 -75.527122\n4  Barranquilla     45  10.979967 -74.801309",
      "text/html": "<div>\n<style scoped>\n    .dataframe tbody tr th:only-of-type {\n        vertical-align: middle;\n    }\n\n    .dataframe tbody tr th {\n        vertical-align: top;\n    }\n\n    .dataframe thead th {\n        text-align: right;\n    }\n</style>\n<table border=\"1\" class=\"dataframe\">\n  <thead>\n    <tr style=\"text-align: right;\">\n      <th></th>\n      <th>city</th>\n      <th>total</th>\n      <th>lat</th>\n      <th>lng</th>\n    </tr>\n  </thead>\n  <tbody>\n    <tr>\n      <th>0</th>\n      <td>Bogota</td>\n      <td>779</td>\n      <td>4.598080</td>\n      <td>-74.076044</td>\n    </tr>\n    <tr>\n      <th>1</th>\n      <td>Cali</td>\n      <td>156</td>\n      <td>3.451792</td>\n      <td>-76.532494</td>\n    </tr>\n    <tr>\n      <th>2</th>\n      <td>Medellin</td>\n      <td>100</td>\n      <td>6.244338</td>\n      <td>-75.573553</td>\n    </tr>\n    <tr>\n      <th>3</th>\n      <td>Cartagena</td>\n      <td>53</td>\n      <td>10.419584</td>\n      <td>-75.527122</td>\n    </tr>\n    <tr>\n      <th>4</th>\n      <td>Barranquilla</td>\n      <td>45</td>\n      <td>10.979967</td>\n      <td>-74.801309</td>\n    </tr>\n  </tbody>\n</table>\n</div>"
     },
     "metadata": {},
     "execution_count": 112
    }
   ],
   "source": [
    "# Add city geolocation\n",
    "covid_df_by_city['geo'] = covid_df_by_city['city'].transform(lambda value: findgeopoint(value))\n",
    "# Add city latitude and longitude\n",
    "covid_df_by_city['lat'] = covid_df_by_city['geo'].transform(lambda value: value.latitude)\n",
    "covid_df_by_city['lng'] = covid_df_by_city['geo'].transform(lambda value: value.longitude)\n",
    "covid_df_by_city = covid_df_by_city.drop(columns=['geo'])\n",
    "# Show dataframe\n",
    "covid_df_by_city.head()"
   ]
  },
  {
   "cell_type": "markdown",
   "metadata": {},
   "source": [
    "## Cases by City\n",
    "> ***Output file***: covid_19_by_city.csv"
   ]
  },
  {
   "cell_type": "code",
   "execution_count": 113,
   "metadata": {},
   "outputs": [],
   "source": [
    "# Save dataframe\n",
    "covid_df_by_city.to_csv(os.path.join(OUTPUT_DIR, 'covid_19_by_city.csv'), index=False)"
   ]
  },
  {
   "cell_type": "markdown",
   "metadata": {},
   "source": [
    "---"
   ]
  },
  {
   "cell_type": "code",
   "execution_count": 114,
   "metadata": {},
   "outputs": [
    {
     "output_type": "execute_result",
     "data": {
      "text/plain": "            dept_dist  total\n0         Bogota D.C.    779\n1     Valle del Cauca    210\n2           Antioquia    183\n3        Cundinamarca     53\n4  Cartagena D.T. y C     53",
      "text/html": "<div>\n<style scoped>\n    .dataframe tbody tr th:only-of-type {\n        vertical-align: middle;\n    }\n\n    .dataframe tbody tr th {\n        vertical-align: top;\n    }\n\n    .dataframe thead th {\n        text-align: right;\n    }\n</style>\n<table border=\"1\" class=\"dataframe\">\n  <thead>\n    <tr style=\"text-align: right;\">\n      <th></th>\n      <th>dept_dist</th>\n      <th>total</th>\n    </tr>\n  </thead>\n  <tbody>\n    <tr>\n      <th>0</th>\n      <td>Bogota D.C.</td>\n      <td>779</td>\n    </tr>\n    <tr>\n      <th>1</th>\n      <td>Valle del Cauca</td>\n      <td>210</td>\n    </tr>\n    <tr>\n      <th>2</th>\n      <td>Antioquia</td>\n      <td>183</td>\n    </tr>\n    <tr>\n      <th>3</th>\n      <td>Cundinamarca</td>\n      <td>53</td>\n    </tr>\n    <tr>\n      <th>4</th>\n      <td>Cartagena D.T. y C</td>\n      <td>53</td>\n    </tr>\n  </tbody>\n</table>\n</div>"
     },
     "metadata": {},
     "execution_count": 114
    }
   ],
   "source": [
    "# Cases by Department or District\n",
    "covid_df_by_dept_dist = covid_df.groupby('dept_dist')['dept_dist'].count().sort_values(ascending=False)\n",
    "covid_df_by_dept_dist = pd.DataFrame(data={'dept_dist': covid_df_by_dept_dist.index, 'total': covid_df_by_dept_dist.values}, columns=['dept_dist', 'total'])\n",
    "# Show dataframe\n",
    "covid_df_by_dept_dist.head()"
   ]
  },
  {
   "cell_type": "code",
   "execution_count": 115,
   "metadata": {},
   "outputs": [
    {
     "output_type": "execute_result",
     "data": {
      "text/plain": "            dept_dist  total       lat        lng\n0         Bogota D.C.    779  4.598080 -74.076044\n1     Valle del Cauca    210  4.063957 -76.123377\n2           Antioquia    183  7.153843 -75.444040\n3        Cundinamarca     53  5.000009 -74.166676\n4  Cartagena D.T. y C     53  2.889443 -73.783892",
      "text/html": "<div>\n<style scoped>\n    .dataframe tbody tr th:only-of-type {\n        vertical-align: middle;\n    }\n\n    .dataframe tbody tr th {\n        vertical-align: top;\n    }\n\n    .dataframe thead th {\n        text-align: right;\n    }\n</style>\n<table border=\"1\" class=\"dataframe\">\n  <thead>\n    <tr style=\"text-align: right;\">\n      <th></th>\n      <th>dept_dist</th>\n      <th>total</th>\n      <th>lat</th>\n      <th>lng</th>\n    </tr>\n  </thead>\n  <tbody>\n    <tr>\n      <th>0</th>\n      <td>Bogota D.C.</td>\n      <td>779</td>\n      <td>4.598080</td>\n      <td>-74.076044</td>\n    </tr>\n    <tr>\n      <th>1</th>\n      <td>Valle del Cauca</td>\n      <td>210</td>\n      <td>4.063957</td>\n      <td>-76.123377</td>\n    </tr>\n    <tr>\n      <th>2</th>\n      <td>Antioquia</td>\n      <td>183</td>\n      <td>7.153843</td>\n      <td>-75.444040</td>\n    </tr>\n    <tr>\n      <th>3</th>\n      <td>Cundinamarca</td>\n      <td>53</td>\n      <td>5.000009</td>\n      <td>-74.166676</td>\n    </tr>\n    <tr>\n      <th>4</th>\n      <td>Cartagena D.T. y C</td>\n      <td>53</td>\n      <td>2.889443</td>\n      <td>-73.783892</td>\n    </tr>\n  </tbody>\n</table>\n</div>"
     },
     "metadata": {},
     "execution_count": 115
    }
   ],
   "source": [
    "# Add dept_dist geolocation\n",
    "covid_df_by_dept_dist['geo'] = covid_df_by_dept_dist['dept_dist'].transform(lambda value: findgeopoint(value))\n",
    "# Add city latitude and longitude\n",
    "covid_df_by_dept_dist['lat'] = covid_df_by_dept_dist['geo'].transform(lambda value: value.latitude)\n",
    "covid_df_by_dept_dist['lng'] = covid_df_by_dept_dist['geo'].transform(lambda value: value.longitude)\n",
    "covid_df_by_dept_dist = covid_df_by_dept_dist.drop(columns=['geo'])\n",
    "# Show dataframe\n",
    "covid_df_by_dept_dist.head()"
   ]
  },
  {
   "cell_type": "markdown",
   "metadata": {},
   "source": [
    "## Cases by Department or District\n",
    "> ***Output file***: covid_19_by_dept_dist.csv"
   ]
  },
  {
   "cell_type": "code",
   "execution_count": 116,
   "metadata": {},
   "outputs": [],
   "source": [
    "# Save dataframe\n",
    "covid_df_by_dept_dist.to_csv(os.path.join(OUTPUT_DIR, 'covid_19_by_dept_dist.csv'), index=False)"
   ]
  },
  {
   "cell_type": "markdown",
   "metadata": {},
   "source": [
    "---"
   ]
  },
  {
   "cell_type": "code",
   "execution_count": 117,
   "metadata": {},
   "outputs": [
    {
     "output_type": "stream",
     "name": "stdout",
     "text": "list_care ['Hospital UCI', 'Casa', 'Hospital', 'Recuperado', 'Fallecido']\nHospital UCI \n           date          care  total  cumsum\n13  02/04/2020  Hospital UCI      4      55\n14  03/04/2020  Hospital UCI      4      59\n15  04/04/2020  Hospital UCI      5      64\n16  05/04/2020  Hospital UCI      4      68\n17  06/04/2020  Hospital UCI      8      76\nCasa \n           date  care  total  cumsum\n21  02/04/2020  Casa     84     924\n22  03/04/2020  Casa     73     997\n23  04/04/2020  Casa    116    1113\n24  05/04/2020  Casa     54    1167\n25  06/04/2020  Casa     67    1234\nHospital \n           date      care  total  cumsum\n12  02/04/2020  Hospital      6      63\n13  03/04/2020  Hospital     23      86\n14  04/04/2020  Hospital     13      99\n15  05/04/2020  Hospital     19     118\n16  06/04/2020  Hospital     17     135\nRecuperado \n           date        care  total  cumsum\n15   27/3/2020  Recuperado      1      81\n16   28/3/2020  Recuperado      1      82\n17   30/3/2020  Recuperado      1      83\n18   31/3/2020  Recuperado      2      85\n19  01/04/2020  Recuperado      3      88\nFallecido \n           date       care  total  cumsum\n12  02/04/2020  Fallecido      2      31\n13  03/04/2020  Fallecido      6      37\n14  04/04/2020  Fallecido      5      42\n15  05/04/2020  Fallecido      2      44\n16  06/04/2020  Fallecido      2      46\n"
    }
   ],
   "source": [
    "# Cases by Care by Date\n",
    "list_care = list(set(covid_df['care'].values))\n",
    "print('list_care', list_care)\n",
    "cases_by_care_by_date = []\n",
    "# Each Care\n",
    "for care in list_care:\n",
    "    covid_df_care_by_date = covid_df[covid_df['care'] == care]\n",
    "    covid_df_care_by_date = covid_df_care_by_date.groupby('date')['date'].count()\n",
    "    covid_df_care_by_date = pd.DataFrame(data={'date': covid_df_care_by_date.index, 'care': ([care] * len(covid_df_care_by_date.index)), 'total': covid_df_care_by_date.values}, columns=['date', 'care', 'total'])\n",
    "    covid_df_care_by_date['date_iso'] = pd.to_datetime(covid_df_care_by_date['date'], format='%d/%m/%Y')\n",
    "    covid_df_care_by_date = covid_df_care_by_date.sort_values(by=['date_iso'], ascending=True)\n",
    "    covid_df_care_by_date['cumsum'] = covid_df_care_by_date['total'].cumsum()\n",
    "    covid_df_care_by_date = covid_df_care_by_date.drop(columns=['date_iso'])\n",
    "    covid_df_care_by_date.reset_index(inplace=True, drop=True)\n",
    "    cases_by_care_by_date.append(covid_df_care_by_date)\n",
    "# Show dataframe\n",
    "for i, care in enumerate(list_care):\n",
    "    print(care, '\\n', cases_by_care_by_date[i].tail())"
   ]
  },
  {
   "cell_type": "markdown",
   "metadata": {},
   "source": [
    "## Cases by Care by Date\n",
    "> ***Output files***: cases_by_care_by_date_(int).csv"
   ]
  },
  {
   "cell_type": "code",
   "execution_count": 118,
   "metadata": {},
   "outputs": [],
   "source": [
    "# Save dataframe\n",
    "for i, care in enumerate(list_care):\n",
    "    cases_by_care_by_date[i].to_csv(os.path.join(OUTPUT_DIR, 'cases_by_care_by_date_' + str(i) + '.csv'), index=False)"
   ]
  },
  {
   "cell_type": "markdown",
   "metadata": {},
   "source": [
    "---"
   ]
  },
  {
   "cell_type": "code",
   "execution_count": 119,
   "metadata": {},
   "outputs": [
    {
     "output_type": "execute_result",
     "data": {
      "text/plain": "   country_origin  total\n0        Colombia    977\n1          España    214\n2  Estados Unidos    150\n3         Ecuador     35\n4          México     29",
      "text/html": "<div>\n<style scoped>\n    .dataframe tbody tr th:only-of-type {\n        vertical-align: middle;\n    }\n\n    .dataframe tbody tr th {\n        vertical-align: top;\n    }\n\n    .dataframe thead th {\n        text-align: right;\n    }\n</style>\n<table border=\"1\" class=\"dataframe\">\n  <thead>\n    <tr style=\"text-align: right;\">\n      <th></th>\n      <th>country_origin</th>\n      <th>total</th>\n    </tr>\n  </thead>\n  <tbody>\n    <tr>\n      <th>0</th>\n      <td>Colombia</td>\n      <td>977</td>\n    </tr>\n    <tr>\n      <th>1</th>\n      <td>España</td>\n      <td>214</td>\n    </tr>\n    <tr>\n      <th>2</th>\n      <td>Estados Unidos</td>\n      <td>150</td>\n    </tr>\n    <tr>\n      <th>3</th>\n      <td>Ecuador</td>\n      <td>35</td>\n    </tr>\n    <tr>\n      <th>4</th>\n      <td>México</td>\n      <td>29</td>\n    </tr>\n  </tbody>\n</table>\n</div>"
     },
     "metadata": {},
     "execution_count": 119
    }
   ],
   "source": [
    "# Cases by Country Origin\n",
    "covid_df_by_country_origin = covid_df.groupby('country_origin')['country_origin'].count().sort_values(ascending=False)\n",
    "covid_df_by_country_origin = pd.DataFrame(data={'country_origin': covid_df_by_country_origin.index, 'total': covid_df_by_country_origin.values}, columns=['country_origin', 'total'])\n",
    "# Show dataframe\n",
    "covid_df_by_country_origin.head()"
   ]
  },
  {
   "cell_type": "markdown",
   "metadata": {},
   "source": [
    "## Cases by Country Origin\n",
    "> ***Output file***: covid_19_by_country_origin.csv"
   ]
  },
  {
   "cell_type": "code",
   "execution_count": 120,
   "metadata": {},
   "outputs": [],
   "source": [
    "# Save dataframe\n",
    "covid_df_by_country_origin.to_csv(os.path.join(OUTPUT_DIR, 'covid_19_by_country_origin.csv'), index=False)"
   ]
  },
  {
   "cell_type": "markdown",
   "metadata": {},
   "source": [
    "---"
   ]
  },
  {
   "cell_type": "code",
   "execution_count": 121,
   "metadata": {},
   "outputs": [
    {
     "output_type": "execute_result",
     "data": {
      "text/plain": "          kind  total\n0    Importado    599\n1  Relacionado    499\n2   En estudio    480\n3    importado      1",
      "text/html": "<div>\n<style scoped>\n    .dataframe tbody tr th:only-of-type {\n        vertical-align: middle;\n    }\n\n    .dataframe tbody tr th {\n        vertical-align: top;\n    }\n\n    .dataframe thead th {\n        text-align: right;\n    }\n</style>\n<table border=\"1\" class=\"dataframe\">\n  <thead>\n    <tr style=\"text-align: right;\">\n      <th></th>\n      <th>kind</th>\n      <th>total</th>\n    </tr>\n  </thead>\n  <tbody>\n    <tr>\n      <th>0</th>\n      <td>Importado</td>\n      <td>599</td>\n    </tr>\n    <tr>\n      <th>1</th>\n      <td>Relacionado</td>\n      <td>499</td>\n    </tr>\n    <tr>\n      <th>2</th>\n      <td>En estudio</td>\n      <td>480</td>\n    </tr>\n    <tr>\n      <th>3</th>\n      <td>importado</td>\n      <td>1</td>\n    </tr>\n  </tbody>\n</table>\n</div>"
     },
     "metadata": {},
     "execution_count": 121
    }
   ],
   "source": [
    "# Cases by Kind\n",
    "covid_df_by_kind = covid_df.groupby('kind')['kind'].count().sort_values(ascending=False)\n",
    "covid_df_by_kind = pd.DataFrame(data={'kind': covid_df_by_kind.index, 'total': covid_df_by_kind.values}, columns=['kind', 'total'])\n",
    "# Show dataframe\n",
    "covid_df_by_kind.head()"
   ]
  },
  {
   "cell_type": "markdown",
   "metadata": {},
   "source": [
    "## Cases by Kind\n",
    "> ***Output file***: covid_19_by_kind.csv"
   ]
  },
  {
   "cell_type": "code",
   "execution_count": 122,
   "metadata": {},
   "outputs": [],
   "source": [
    "# Save dataframe\n",
    "covid_df_by_kind.to_csv(os.path.join(OUTPUT_DIR, 'covid_19_by_kind.csv'), index=False)"
   ]
  },
  {
   "cell_type": "markdown",
   "metadata": {},
   "source": [
    "---"
   ]
  },
  {
   "cell_type": "code",
   "execution_count": 123,
   "metadata": {},
   "outputs": [
    {
     "output_type": "stream",
     "name": "stdout",
     "text": "26106\n"
    }
   ],
   "source": [
    "# Descarted Cases\n",
    "# Reading the json as a dict\n",
    "with requests.get('https://infogram.com/api/live/flex/5eb73bf0-6714-4bac-87cc-9ef0613bf697/c9a25571-e7c5-43c6-a7ac-d834a3b5e872?') as original_dataset:\n",
    "    data = original_dataset.json()\n",
    "#print(data['data'][0][3][0])\n",
    "\n",
    "# Get attributes and data\n",
    "attrs = data['data'][0][3][0]\n",
    "del data\n",
    "#print(attrs)\n",
    "descarted_cases = attrs.split('<b>')[1].split('</b>')[0].replace('.', '')\n",
    "print(descarted_cases)"
   ]
  },
  {
   "cell_type": "markdown",
   "metadata": {},
   "source": [
    "---"
   ]
  },
  {
   "cell_type": "code",
   "execution_count": 124,
   "metadata": {},
   "outputs": [
    {
     "output_type": "execute_result",
     "data": {
      "text/plain": "             Periodo Muestras procesadas Acumulado procesadas\n0  01/02/20-29/02/20                 599                  599\n1  02/03/20-08/03/20                 160                  759\n2  09/03/20-15/03/20                1584                 2343\n3  16/03/20-22/03/20                4818                 7161\n4  23/03/20-29/03/20                8903                16064",
      "text/html": "<div>\n<style scoped>\n    .dataframe tbody tr th:only-of-type {\n        vertical-align: middle;\n    }\n\n    .dataframe tbody tr th {\n        vertical-align: top;\n    }\n\n    .dataframe thead th {\n        text-align: right;\n    }\n</style>\n<table border=\"1\" class=\"dataframe\">\n  <thead>\n    <tr style=\"text-align: right;\">\n      <th></th>\n      <th>Periodo</th>\n      <th>Muestras procesadas</th>\n      <th>Acumulado procesadas</th>\n    </tr>\n  </thead>\n  <tbody>\n    <tr>\n      <th>0</th>\n      <td>01/02/20-29/02/20</td>\n      <td>599</td>\n      <td>599</td>\n    </tr>\n    <tr>\n      <th>1</th>\n      <td>02/03/20-08/03/20</td>\n      <td>160</td>\n      <td>759</td>\n    </tr>\n    <tr>\n      <th>2</th>\n      <td>09/03/20-15/03/20</td>\n      <td>1584</td>\n      <td>2343</td>\n    </tr>\n    <tr>\n      <th>3</th>\n      <td>16/03/20-22/03/20</td>\n      <td>4818</td>\n      <td>7161</td>\n    </tr>\n    <tr>\n      <th>4</th>\n      <td>23/03/20-29/03/20</td>\n      <td>8903</td>\n      <td>16064</td>\n    </tr>\n  </tbody>\n</table>\n</div>"
     },
     "metadata": {},
     "execution_count": 124
    }
   ],
   "source": [
    "# Samples Processed\n",
    "# Reading the json as a dict\n",
    "with requests.get('https://infogram.com/api/live/flex/bc384047-e71c-47d9-b606-1eb6a29962e3/523ca417-2781-47f0-87e8-1ccc2d5c2839?') as original_dataset:\n",
    "    data = original_dataset.json()\n",
    "#print(data['data'][1])\n",
    "\n",
    "# Get attributes and data\n",
    "attrs = data['data'][1][0]\n",
    "attrs[0] = 'Periodo'\n",
    "del data['data'][1][0]\n",
    "#print(attrs)\n",
    "data = data['data'][1]\n",
    "#print(data)\n",
    "\n",
    "# Build dataframe\n",
    "covid_df_samples_processed = pd.DataFrame(data=data, columns=attrs)\n",
    "\n",
    "# Size dataframe\n",
    "covid_df_samples_processed.head()"
   ]
  },
  {
   "cell_type": "code",
   "execution_count": 125,
   "metadata": {},
   "outputs": [
    {
     "output_type": "execute_result",
     "data": {
      "text/plain": "              period total_samples accum_samples\n0  01/02/20-29/02/20           599           599\n1  02/03/20-08/03/20           160           759\n2  09/03/20-15/03/20          1584          2343\n3  16/03/20-22/03/20          4818          7161\n4  23/03/20-29/03/20          8903         16064",
      "text/html": "<div>\n<style scoped>\n    .dataframe tbody tr th:only-of-type {\n        vertical-align: middle;\n    }\n\n    .dataframe tbody tr th {\n        vertical-align: top;\n    }\n\n    .dataframe thead th {\n        text-align: right;\n    }\n</style>\n<table border=\"1\" class=\"dataframe\">\n  <thead>\n    <tr style=\"text-align: right;\">\n      <th></th>\n      <th>period</th>\n      <th>total_samples</th>\n      <th>accum_samples</th>\n    </tr>\n  </thead>\n  <tbody>\n    <tr>\n      <th>0</th>\n      <td>01/02/20-29/02/20</td>\n      <td>599</td>\n      <td>599</td>\n    </tr>\n    <tr>\n      <th>1</th>\n      <td>02/03/20-08/03/20</td>\n      <td>160</td>\n      <td>759</td>\n    </tr>\n    <tr>\n      <th>2</th>\n      <td>09/03/20-15/03/20</td>\n      <td>1584</td>\n      <td>2343</td>\n    </tr>\n    <tr>\n      <th>3</th>\n      <td>16/03/20-22/03/20</td>\n      <td>4818</td>\n      <td>7161</td>\n    </tr>\n    <tr>\n      <th>4</th>\n      <td>23/03/20-29/03/20</td>\n      <td>8903</td>\n      <td>16064</td>\n    </tr>\n  </tbody>\n</table>\n</div>"
     },
     "metadata": {},
     "execution_count": 125
    }
   ],
   "source": [
    "# Rename columns\n",
    "covid_df_samples_processed.rename(columns={\n",
    "    \"Periodo\": \"period\",\n",
    "    \"Muestras procesadas\": \"total_samples\",\n",
    "    \"Acumulado procesadas\": \"accum_samples\"}, inplace=True)\n",
    "# Show dataframe\n",
    "covid_df_samples_processed.head()"
   ]
  },
  {
   "cell_type": "code",
   "execution_count": 126,
   "metadata": {},
   "outputs": [
    {
     "output_type": "execute_result",
     "data": {
      "text/plain": "                  period total_samples accum_samples\n0  01/02/2020-29/02/2020           599           599\n1  02/03/2020-08/03/2020           160           759\n2  09/03/2020-15/03/2020          1584          2343\n3  16/03/2020-22/03/2020          4818          7161\n4  23/03/2020-29/03/2020          8903         16064",
      "text/html": "<div>\n<style scoped>\n    .dataframe tbody tr th:only-of-type {\n        vertical-align: middle;\n    }\n\n    .dataframe tbody tr th {\n        vertical-align: top;\n    }\n\n    .dataframe thead th {\n        text-align: right;\n    }\n</style>\n<table border=\"1\" class=\"dataframe\">\n  <thead>\n    <tr style=\"text-align: right;\">\n      <th></th>\n      <th>period</th>\n      <th>total_samples</th>\n      <th>accum_samples</th>\n    </tr>\n  </thead>\n  <tbody>\n    <tr>\n      <th>0</th>\n      <td>01/02/2020-29/02/2020</td>\n      <td>599</td>\n      <td>599</td>\n    </tr>\n    <tr>\n      <th>1</th>\n      <td>02/03/2020-08/03/2020</td>\n      <td>160</td>\n      <td>759</td>\n    </tr>\n    <tr>\n      <th>2</th>\n      <td>09/03/2020-15/03/2020</td>\n      <td>1584</td>\n      <td>2343</td>\n    </tr>\n    <tr>\n      <th>3</th>\n      <td>16/03/2020-22/03/2020</td>\n      <td>4818</td>\n      <td>7161</td>\n    </tr>\n    <tr>\n      <th>4</th>\n      <td>23/03/2020-29/03/2020</td>\n      <td>8903</td>\n      <td>16064</td>\n    </tr>\n  </tbody>\n</table>\n</div>"
     },
     "metadata": {},
     "execution_count": 126
    }
   ],
   "source": [
    "# Update date format\n",
    "def update_date_format(period):\n",
    "    date1 = period.split('-')[0]\n",
    "    date2 = period.split('-')[1]\n",
    "    if date1.split('/')[-1] == '20':\n",
    "        date1 = '/'.join(date1.split('/')[0:-1]) + '/2020'\n",
    "    if date2.split('/')[-1] == '20':\n",
    "        date2 = '/'.join(date2.split('/')[0:-1]) + '/2020'\n",
    "    return date1 + '-' + date2\n",
    "# Example\n",
    "#update_date_format('02/03/20-08/03/20')\n",
    "# Update date format\n",
    "covid_df_samples_processed['period'] = covid_df_samples_processed['period'].transform(lambda value: update_date_format(value))\n",
    "# Show dataframe\n",
    "covid_df_samples_processed.head()"
   ]
  },
  {
   "cell_type": "markdown",
   "metadata": {},
   "source": [
    "## Samples Processed\n",
    "> ***Output file***: covid_19_samples_processed.csv"
   ]
  },
  {
   "cell_type": "code",
   "execution_count": 127,
   "metadata": {},
   "outputs": [],
   "source": [
    "# Save dataframe\n",
    "covid_df_samples_processed.to_csv(os.path.join(OUTPUT_DIR, 'covid_19_samples_processed.csv'), index=False)"
   ]
  },
  {
   "cell_type": "markdown",
   "metadata": {},
   "source": [
    "---"
   ]
  },
  {
   "cell_type": "code",
   "execution_count": 128,
   "metadata": {},
   "outputs": [
    {
     "output_type": "execute_result",
     "data": {
      "text/plain": "                 title  total\n0          Confirmados   1579\n1          Recuperados     46\n2              Muertes    135\n3    Casos descartados  26106\n4            Importado    599\n5          Relacionado    499\n6           En estudio    480\n7  Muestras procesadas  27685",
      "text/html": "<div>\n<style scoped>\n    .dataframe tbody tr th:only-of-type {\n        vertical-align: middle;\n    }\n\n    .dataframe tbody tr th {\n        vertical-align: top;\n    }\n\n    .dataframe thead th {\n        text-align: right;\n    }\n</style>\n<table border=\"1\" class=\"dataframe\">\n  <thead>\n    <tr style=\"text-align: right;\">\n      <th></th>\n      <th>title</th>\n      <th>total</th>\n    </tr>\n  </thead>\n  <tbody>\n    <tr>\n      <th>0</th>\n      <td>Confirmados</td>\n      <td>1579</td>\n    </tr>\n    <tr>\n      <th>1</th>\n      <td>Recuperados</td>\n      <td>46</td>\n    </tr>\n    <tr>\n      <th>2</th>\n      <td>Muertes</td>\n      <td>135</td>\n    </tr>\n    <tr>\n      <th>3</th>\n      <td>Casos descartados</td>\n      <td>26106</td>\n    </tr>\n    <tr>\n      <th>4</th>\n      <td>Importado</td>\n      <td>599</td>\n    </tr>\n    <tr>\n      <th>5</th>\n      <td>Relacionado</td>\n      <td>499</td>\n    </tr>\n    <tr>\n      <th>6</th>\n      <td>En estudio</td>\n      <td>480</td>\n    </tr>\n    <tr>\n      <th>7</th>\n      <td>Muestras procesadas</td>\n      <td>27685</td>\n    </tr>\n  </tbody>\n</table>\n</div>"
     },
     "metadata": {},
     "execution_count": 128
    }
   ],
   "source": [
    "# Resume\n",
    "data = []\n",
    "\n",
    "# Resume Attributes\n",
    "data.append(['Confirmados', covid_df_by_date.values[-1][-1]])\n",
    "data.append(['Recuperados', cases_by_care_by_date[4].values[-1][-1]])\n",
    "data.append(['Muertes', cases_by_care_by_date[2].values[-1][-1]])\n",
    "data.append(['Casos descartados', descarted_cases])\n",
    "data.append(['Importado', covid_df_by_kind[covid_df_by_kind['kind'] == 'Importado'].values[0][-1]])\n",
    "data.append(['Relacionado', covid_df_by_kind[covid_df_by_kind['kind'] == 'Relacionado'].values[0][-1]])\n",
    "data.append(['En estudio', covid_df_by_kind[covid_df_by_kind['kind'] == 'En estudio'].values[0][-1]])\n",
    "data.append(['Muestras procesadas', covid_df_samples_processed.values[-1][-1]])\n",
    "\n",
    "# Resume Dataframe\n",
    "covid_df_resume = pd.DataFrame(data=data, columns=['title', 'total'])\n",
    "# Show dataframe\n",
    "covid_df_resume.head(10)"
   ]
  },
  {
   "cell_type": "markdown",
   "metadata": {},
   "source": [
    "## Resume\n",
    "> ***Output file***: covid_19_resume.csv"
   ]
  },
  {
   "cell_type": "code",
   "execution_count": 129,
   "metadata": {},
   "outputs": [],
   "source": [
    "# Save dataframe\n",
    "covid_df_resume.to_csv(os.path.join(OUTPUT_DIR, 'covid_19_resume.csv'), index=False)"
   ]
  },
  {
   "cell_type": "markdown",
   "metadata": {},
   "source": [
    "---"
   ]
  }
 ],
 "metadata": {
  "kernelspec": {
   "display_name": "Python 3",
   "language": "python",
   "name": "python3"
  },
  "language_info": {
   "codemirror_mode": {
    "name": "ipython",
    "version": 3
   },
   "file_extension": ".py",
   "mimetype": "text/x-python",
   "name": "python",
   "nbconvert_exporter": "python",
   "pygments_lexer": "ipython3",
   "version": "3.6.9-final"
  }
 },
 "nbformat": 4,
 "nbformat_minor": 4
}